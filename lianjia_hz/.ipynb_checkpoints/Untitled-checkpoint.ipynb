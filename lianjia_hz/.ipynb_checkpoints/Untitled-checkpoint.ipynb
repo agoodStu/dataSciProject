{
 "cells": [
  {
   "cell_type": "code",
   "execution_count": 2,
   "metadata": {},
   "outputs": [],
   "source": [
    "import pandas as pd\n",
    "import requests\n",
    "from bs4 import BeautifulSoup"
   ]
  },
  {
   "cell_type": "code",
   "execution_count": 3,
   "metadata": {},
   "outputs": [],
   "source": [
    "headers = {'user-agent': 'Mozilla/5.0 (Windows NT 10.0; Win64; x64) AppleWebKit/537.36 (KHTML, like Gecko) Chrome/84.0.4147.135 Safari/537.36'}"
   ]
  },
  {
   "cell_type": "code",
   "execution_count": 23,
   "metadata": {},
   "outputs": [],
   "source": [
    "link = 'https://hz.lianjia.com/ershoufang/'\n",
    "r = requests.get(link, headers=headers)\n",
    "soup = BeautifulSoup(r.text, 'lxml')\n",
    "position_text = soup.find('div', class_='position')\n",
    "position_list = []"
   ]
  },
  {
   "cell_type": "code",
   "execution_count": 24,
   "metadata": {},
   "outputs": [],
   "source": [
    "for a in position_text.div.find_all('a'):\n",
    "    position_list.append(a['href'].split('/')[2])"
   ]
  },
  {
   "cell_type": "markdown",
   "metadata": {},
   "source": [
    "- 数据存放：div class=info clear\n",
    "- 房屋名称：div class=title > a\n",
    "- 区域：div class=positionInfo > a [1]\n",
    "- 房屋信息：div class=houseInfo 注意split('|')\n",
    "- 房屋总价：div class=totalPrice > span \n",
    "- 房屋单价：div class=unitPrice > span"
   ]
  },
  {
   "cell_type": "code",
   "execution_count": null,
   "metadata": {},
   "outputs": [],
   "source": []
  }
 ],
 "metadata": {
  "kernelspec": {
   "display_name": "Python 3",
   "language": "python",
   "name": "python3"
  },
  "language_info": {
   "codemirror_mode": {
    "name": "ipython",
    "version": 3
   },
   "file_extension": ".py",
   "mimetype": "text/x-python",
   "name": "python",
   "nbconvert_exporter": "python",
   "pygments_lexer": "ipython3",
   "version": "3.7.3"
  }
 },
 "nbformat": 4,
 "nbformat_minor": 2
}
