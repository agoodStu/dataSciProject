{
 "cells": [
  {
   "cell_type": "code",
   "execution_count": 1,
   "metadata": {
    "collapsed": true
   },
   "outputs": [],
   "source": [
    "from efficient_apriori import apriori\n",
    "from lxml import etree\n",
    "import time\n",
    "import csv\n",
    "from selenium import webdriver\n",
    "driver = webdriver.Chrome()"
   ]
  },
  {
   "cell_type": "code",
   "execution_count": 2,
   "metadata": {
    "collapsed": true
   },
   "outputs": [],
   "source": [
    "director = u'张艺谋'\n",
    "file_name = './' + director + '.csv'\n",
    "base_url = 'https://movie.douban.com/subject_search?search_text='+director+'&cat=1002&start='\n",
    "out = open(file_name,'w', newline='', encoding='utf-8-sig')\n",
    "csv_write = csv.writer(out, dialect='excel')\n",
    "flags=[]"
   ]
  },
  {
   "cell_type": "code",
   "execution_count": null,
   "metadata": {
    "collapsed": true
   },
   "outputs": [],
   "source": [
    "def download(request_url):\n",
    "    driver.get(request_url)\n",
    "    time.sleep(1)\n",
    "    html = driver.find_element_by_xpath(\"//*\").get_attribute(\"outerHTML\")\n",
    "    html = etree.HTML(html)\n",
    "    # 设置电影名称，导演演员 的 XPATH\n",
    "    movie_lists = html.xpath(\"/html/body/div[@id='wrapper']/div[@id='root']/div[1]//div[@class='item-root']/div[@class='detail']/div[@class='title']/a[@class='title-text']\")\n",
    "    name_lists = html.xpath(\"/html/body/div[@id='wrapper']/div[@id='root']/div[1]//div[@class='item-root']/div[@class='detail']/div[@class='meta abstract_2']\")\n",
    "    # 获取返回的数据个数\n",
    "    num = len(movie_lists)\n",
    "    if num > 15:  # 第一页会有 16 条数据\n",
    "        # 默认第一个不是，所以需要去掉\n",
    "        movie_lists = movie_lists[1:]\n",
    "        name_lists = name_lists[1:]\n",
    "    for (movie, name_list) in zip(movie_lists, name_lists):\n",
    "        # 会存在数据为空的情况\n",
    "        if name_list.text is None: \n",
    "            continue\n",
    "        # 显示下演员名称\n",
    "        print(name_list.text)\n",
    "        names = name_list.text.split('/')\n",
    "        # 判断导演是否为指定的 director\n",
    "        if names[0].strip() == director and movie.text not in flags:\n",
    "            # 将第一个字段设置为电影名称\n",
    "            names[0] = movie.text\n",
    "            flags.append(movie.text)\n",
    "    csv_write.writerow(names)\n",
    "    print('OK')   # 代表这页数据下载成功\n",
    "    print(num)\n",
    "    if num >= 14: # 有可能一页会有 14 个电影\n",
    "        # 继续下一页\n",
    "        return True\n",
    "    else:\n",
    "        # 没有下一页\n",
    "        return False"
   ]
  },
  {
   "cell_type": "code",
   "execution_count": null,
   "metadata": {
    "collapsed": true,
    "scrolled": true
   },
   "outputs": [],
   "source": [
    "# 开始的 ID 为 0，每页增加 15\n",
    "start = 0\n",
    "while start<10000: # 最多抽取 1 万部电影\n",
    "    request_url = base_url + str(start)\n",
    "    # 下载数据，并返回是否有下一页\n",
    "    flag = download(request_url)\n",
    "    if flag:\n",
    "        start = start + 15\n",
    "    else:\n",
    "        break\n",
    "out.close()\n",
    "print('finished')"
   ]
  },
  {
   "cell_type": "code",
   "execution_count": 2,
   "metadata": {
    "collapsed": true
   },
   "outputs": [],
   "source": [
    "lists = csv.reader(open('张艺谋.csv', 'r', encoding='utf-8-sig'))"
   ]
  },
  {
   "cell_type": "code",
   "execution_count": 3,
   "metadata": {
    "collapsed": true
   },
   "outputs": [],
   "source": [
    "data = []\n",
    "for names in lists:\n",
    "    name_new = []\n",
    "    for name in names:\n",
    "        name_new.append(name.strip())\n",
    "    data.append(name_new[1:])"
   ]
  },
  {
   "cell_type": "code",
   "execution_count": 4,
   "metadata": {
    "collapsed": true
   },
   "outputs": [],
   "source": [
    "# data中有空数组\n",
    "data2 = [x for x in data if x != []]"
   ]
  },
  {
   "cell_type": "code",
   "execution_count": 32,
   "metadata": {},
   "outputs": [
    {
     "name": "stdout",
     "output_type": "stream",
     "text": [
      "{}\n",
      "[]\n"
     ]
    }
   ],
   "source": [
    "itemsets, rules= apriori(data2, min_support=0.5, min_confidence=1)\n",
    "print(itemsets)\n",
    "print(rules)"
   ]
  },
  {
   "cell_type": "markdown",
   "metadata": {},
   "source": [
    "可以发现，在最小支持度为0.5时，没有演员。"
   ]
  },
  {
   "cell_type": "code",
   "execution_count": 28,
   "metadata": {},
   "outputs": [
    {
     "name": "stdout",
     "output_type": "stream",
     "text": [
      "{1: {('巩俐',): 9}}\n",
      "[]\n"
     ]
    }
   ],
   "source": [
    "# 挖掘频繁项集和频繁规则\n",
    "itemsets, rules = apriori(data2, min_support=0.3,  min_confidence=1)\n",
    "print(itemsets)\n",
    "print(rules)\n"
   ]
  },
  {
   "cell_type": "markdown",
   "metadata": {},
   "source": [
    "在支持度为0.3时，巩俐老师入选，在张导29部电影中，出现了9次。"
   ]
  },
  {
   "cell_type": "code",
   "execution_count": 51,
   "metadata": {},
   "outputs": [
    {
     "name": "stdout",
     "output_type": "stream",
     "text": [
      "{1: {('倪大红',): 3, ('傅彪',): 2, ('刘佩琦',): 2, ('刘德华',): 2, ('姜文',): 2, ('孙红雷',): 3, ('巩俐',): 9, ('李保田',): 3, ('李曼',): 2, ('李雪健',): 5, ('杨凤良',): 2, ('牛犇',): 2, ('章子怡',): 3, ('葛优',): 3, ('赵本山',): 2, ('郭涛',): 2, ('闫妮',): 2, ('陈道明',): 2}, 2: {('倪大红', '巩俐'): 2, ('傅彪', '李雪健'): 2, ('刘佩琦', '巩俐'): 2, ('孙红雷', '赵本山'): 2, ('巩俐', '李保田'): 2, ('巩俐', '杨凤良'): 2, ('巩俐', '葛优'): 2, ('巩俐', '郭涛'): 2, ('李保田', '李雪健'): 2}}\n",
      "[{傅彪} -> {李雪健}, {刘佩琦} -> {巩俐}, {赵本山} -> {孙红雷}, {杨凤良} -> {巩俐}, {郭涛} -> {巩俐}]\n"
     ]
    }
   ],
   "source": [
    "itemsets, rules = apriori(data2, min_support=0.06,  min_confidence=1)\n",
    "print(itemsets)\n",
    "print(rules)"
   ]
  },
  {
   "cell_type": "markdown",
   "metadata": {},
   "source": [
    "当支持度为0.06时，有关联出现。"
   ]
  }
 ],
 "metadata": {
  "kernelspec": {
   "display_name": "Python 3",
   "language": "python",
   "name": "python3"
  },
  "language_info": {
   "codemirror_mode": {
    "name": "ipython",
    "version": 3
   },
   "file_extension": ".py",
   "mimetype": "text/x-python",
   "name": "python",
   "nbconvert_exporter": "python",
   "pygments_lexer": "ipython3",
   "version": "3.6.3"
  }
 },
 "nbformat": 4,
 "nbformat_minor": 2
}
